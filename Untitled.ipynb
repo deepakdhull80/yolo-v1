{
 "cells": [
  {
   "cell_type": "code",
   "execution_count": 1,
   "id": "932ab867-fc2f-4d69-b052-4d0aaf0aaa9b",
   "metadata": {},
   "outputs": [],
   "source": [
    "import pandas as pd\n",
    "import numpy as np"
   ]
  },
  {
   "cell_type": "code",
   "execution_count": 2,
   "id": "3a08b1dc-2cc1-48c6-9dd6-bfe7e91529aa",
   "metadata": {},
   "outputs": [],
   "source": [
    "df = pd.read_json(\"data/final_coco.json\")"
   ]
  },
  {
   "cell_type": "code",
   "execution_count": 29,
   "id": "d6f9ff33-dca9-4f0b-a8f3-43d0b9f14c99",
   "metadata": {},
   "outputs": [
    {
     "name": "stdout",
     "output_type": "stream",
     "text": [
      "['car', 'chair', 'book', 'bottle', 'cup', 'dining table', 'traffic light', 'bowl', 'handbag', 'bird']\n"
     ]
    }
   ],
   "source": [
    "class_labels = list(df['name'].value_counts()[1:11].to_dict().keys())\n",
    "print(class_labels)"
   ]
  },
  {
   "cell_type": "code",
   "execution_count": 30,
   "id": "d7cf7630-3a82-414d-9d35-17bb9ed76fa6",
   "metadata": {},
   "outputs": [
    {
     "data": {
      "text/plain": [
       "(9748, 14)"
      ]
     },
     "execution_count": 30,
     "metadata": {},
     "output_type": "execute_result"
    }
   ],
   "source": [
    "df[df.name.map(lambda x: x in class_labels)].shape"
   ]
  },
  {
   "cell_type": "code",
   "execution_count": null,
   "id": "5ee1cd3a-f9e3-440c-b9e1-113d44452433",
   "metadata": {},
   "outputs": [],
   "source": []
  }
 ],
 "metadata": {
  "kernelspec": {
   "display_name": "venv",
   "language": "python",
   "name": "venv"
  },
  "language_info": {
   "codemirror_mode": {
    "name": "ipython",
    "version": 3
   },
   "file_extension": ".py",
   "mimetype": "text/x-python",
   "name": "python",
   "nbconvert_exporter": "python",
   "pygments_lexer": "ipython3",
   "version": "3.9.2"
  }
 },
 "nbformat": 4,
 "nbformat_minor": 5
}
